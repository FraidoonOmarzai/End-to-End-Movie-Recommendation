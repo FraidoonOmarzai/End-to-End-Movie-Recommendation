{
 "cells": [
  {
   "cell_type": "code",
   "execution_count": 2,
   "metadata": {},
   "outputs": [
    {
     "data": {
      "text/plain": [
       "'c:\\\\Users\\\\44787\\\\Desktop\\\\End-to-End-Movie-Recommendation\\\\research'"
      ]
     },
     "execution_count": 2,
     "metadata": {},
     "output_type": "execute_result"
    }
   ],
   "source": [
    "%pwd"
   ]
  },
  {
   "cell_type": "code",
   "execution_count": 3,
   "metadata": {},
   "outputs": [
    {
     "data": {
      "text/plain": [
       "'c:\\\\Users\\\\44787\\\\Desktop\\\\End-to-End-Movie-Recommendation'"
      ]
     },
     "execution_count": 3,
     "metadata": {},
     "output_type": "execute_result"
    }
   ],
   "source": [
    "import os\n",
    "\n",
    "os.chdir('../')\n",
    "%pwd"
   ]
  },
  {
   "cell_type": "code",
   "execution_count": 26,
   "metadata": {},
   "outputs": [],
   "source": [
    "from pathlib import Path\n",
    "from dataclasses import dataclass\n",
    "\n",
    "@dataclass\n",
    "class DataTransformationConfig:\n",
    "    root_dir: Path\n",
    "    movies_path: Path\n",
    "    credits_path: Path"
   ]
  },
  {
   "cell_type": "code",
   "execution_count": 5,
   "metadata": {},
   "outputs": [],
   "source": [
    "from src.MoviesRecom.constants import CONFIG_PATH\n",
    "from src.MoviesRecom.utils.common import read_yaml, create_directories"
   ]
  },
  {
   "cell_type": "code",
   "execution_count": 25,
   "metadata": {},
   "outputs": [],
   "source": [
    "class ConfigurationManager:\n",
    "    def __init__(self, config=CONFIG_PATH):\n",
    "        self.config = read_yaml(config)\n",
    "        \n",
    "    def get_data_transofrmation_config(self)->DataTransformationConfig:\n",
    "        config = self.config.data_transformation\n",
    "        create_directories([config.root_dir])\n",
    "        \n",
    "        data_transofrmation_config = DataTransformationConfig(\n",
    "            root_dir=config.root_dir,\n",
    "            movies_path=config.movies_path,\n",
    "            credits_path=config.credits_path,\n",
    "        )\n",
    "        return data_transofrmation_config"
   ]
  },
  {
   "cell_type": "code",
   "execution_count": 16,
   "metadata": {},
   "outputs": [],
   "source": [
    "from src.MoviesRecom.logging import logger\n",
    "import pandas as pd\n",
    "import ast"
   ]
  },
  {
   "cell_type": "code",
   "execution_count": 23,
   "metadata": {},
   "outputs": [],
   "source": [
    "class DataTransformation:\n",
    "    def __init__(self, config: DataTransformationConfig):\n",
    "        self.config = config\n",
    "        \n",
    "        \n",
    "    # fun for getting names {genre, keywords}\n",
    "    def convert_01(self, text):\n",
    "        L = []\n",
    "        for i in ast.literal_eval(text):\n",
    "            L.append(i['name']) \n",
    "        return L\n",
    "    \n",
    "    \n",
    "    # fun for getting 3 names of actors\n",
    "    def Act_names(self, text):\n",
    "        names = []\n",
    "        c = 0\n",
    "        for i in ast.literal_eval(text):\n",
    "            if c < 3:\n",
    "                names.append(i['name'])\n",
    "            c+=1\n",
    "        return names\n",
    "    \n",
    "    \n",
    "    # fun for getting names of directors\n",
    "    def fetch_director(self, text):\n",
    "        names = []\n",
    "        for i in ast.literal_eval(text):\n",
    "            if i['job'] == 'Director':\n",
    "                names.append(i['name'])\n",
    "        return names\n",
    "            \n",
    "            \n",
    "    def prepare_data(self):\n",
    "        movies = pd.read_csv(self.config.movies_path)\n",
    "        # logger.info(movies.head(2))\n",
    "        credits = pd.read_csv(self.config.credits_path)\n",
    "        # logger.info(credits.head(2))\n",
    "        \n",
    "        ## merge movies and credits\n",
    "        df = movies.merge(credits, on='title')\n",
    "        \n",
    "        ## getting only useful columns\n",
    "        df = df[['movie_id','title','overview','genres','keywords','cast','crew']]\n",
    "        \n",
    "        ## removing null valuse\n",
    "        df = df.dropna()\n",
    "        \n",
    "        ## getting only names from genres and \n",
    "        df['genres'] = df['genres'].apply(self.convert_01)\n",
    "        df['keywords'] = df['keywords'].apply(self.convert_01)\n",
    "        \n",
    "        ## Getting 3 actors or actresses names for each movie\n",
    "        df['cast'] = df['cast'].apply(self.Act_names)\n",
    "        \n",
    "        ## Getting name of the movie director\n",
    "        df['crew'] = df['crew'].apply(self.fetch_director)\n",
    "        \n",
    "        ## Removing space b/w names for example\n",
    "        df['crew'] = df['crew'].apply(lambda x:[i.replace(\" \", \"\") for i in x])\n",
    "        df['genres'] = df['genres'].apply(lambda x:[i.replace(\" \", \"\") for i in x])\n",
    "        df['keywords'] = df['keywords'].apply(lambda x:[i.replace(\" \", \"\") for i in x])\n",
    "        df['cast'] = df['cast'].apply(lambda x:[i.replace(\" \", \"\") for i in x])\n",
    "        \n",
    "        ## spliting overview\n",
    "        df['overview'] = df['overview'].apply(lambda x: x.split(' '))\n",
    "        \n",
    "        ## combine columns\n",
    "        df['tags'] = df.overview + df.genres + df.keywords + df.cast + df.crew\n",
    "        \n",
    "        ## remove the columns\n",
    "        df = df.drop(['overview', 'genres', 'keywords', 'cast', 'crew'], axis=1)\n",
    "        \n",
    "        ## join tags columns each string\n",
    "        df['tags'] = df['tags'].apply(lambda x: \" \".join(x))\n",
    "        \n",
    "        ## save the dataset\n",
    "        df.to_csv(os.path.join(self.config.root_dir, 'clean_df.csv.'), index=False)"
   ]
  },
  {
   "cell_type": "code",
   "execution_count": 24,
   "metadata": {},
   "outputs": [
    {
     "name": "stdout",
     "output_type": "stream",
     "text": [
      "[2024-01-21 19:56:56,252: INFO: common: yaml file: config\\config.yaml loaded successfully]\n",
      "[2024-01-21 19:56:56,255: INFO: common: created directory at: artifacts/data_transformation]\n"
     ]
    }
   ],
   "source": [
    "try:\n",
    "    config = ConfigurationManager()\n",
    "    data_transformation_config = config.get_data_transofrmation_config()\n",
    "    data_transformation = DataTransformation(data_transformation_config)\n",
    "    data_transformation.prepare_data()\n",
    "except Exception as e:\n",
    "    raise e"
   ]
  }
 ],
 "metadata": {
  "kernelspec": {
   "display_name": "Python 3",
   "language": "python",
   "name": "python3"
  },
  "language_info": {
   "codemirror_mode": {
    "name": "ipython",
    "version": 3
   },
   "file_extension": ".py",
   "mimetype": "text/x-python",
   "name": "python",
   "nbconvert_exporter": "python",
   "pygments_lexer": "ipython3",
   "version": "3.9.18"
  }
 },
 "nbformat": 4,
 "nbformat_minor": 2
}

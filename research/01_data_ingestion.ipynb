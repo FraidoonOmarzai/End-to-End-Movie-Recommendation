{
 "cells": [
  {
   "cell_type": "code",
   "execution_count": 1,
   "metadata": {},
   "outputs": [
    {
     "data": {
      "text/plain": [
       "'c:\\\\Users\\\\44787\\\\Desktop\\\\projects\\\\End-to-End-Movie-Recommendation\\\\research'"
      ]
     },
     "execution_count": 1,
     "metadata": {},
     "output_type": "execute_result"
    }
   ],
   "source": [
    "%pwd"
   ]
  },
  {
   "cell_type": "code",
   "execution_count": 2,
   "metadata": {},
   "outputs": [
    {
     "data": {
      "text/plain": [
       "'c:\\\\Users\\\\44787\\\\Desktop\\\\projects\\\\End-to-End-Movie-Recommendation'"
      ]
     },
     "execution_count": 2,
     "metadata": {},
     "output_type": "execute_result"
    }
   ],
   "source": [
    "import os\n",
    "\n",
    "os.chdir('../')\n",
    "%pwd"
   ]
  },
  {
   "cell_type": "code",
   "execution_count": 13,
   "metadata": {},
   "outputs": [],
   "source": [
    "from dataclasses import dataclass\n",
    "from pathlib import Path\n",
    "\n",
    "@dataclass\n",
    "class DataIngestionConfig:\n",
    "    root_dir: Path\n",
    "    data_url: str\n",
    "    local_data_file: Path\n",
    "    unzip_dir: Path\n",
    "    "
   ]
  },
  {
   "cell_type": "code",
   "execution_count": 11,
   "metadata": {},
   "outputs": [],
   "source": [
    "from src.MoviesRecom.constants import CONFIG_PATH\n",
    "from src.MoviesRecom.utils.common import read_yaml, create_directories"
   ]
  },
  {
   "cell_type": "code",
   "execution_count": 14,
   "metadata": {},
   "outputs": [],
   "source": [
    "class ConfigurationManager:\n",
    "    def __init__(self, config_file= CONFIG_PATH):\n",
    "        self.config_path = read_yaml(config_file)\n",
    "        \n",
    "        create_directories([self.config_path.artifacts_root])\n",
    "        \n",
    "    \n",
    "    def dataIngestionConfig(self) -> DataIngestionConfig:\n",
    "        config = self.config_path.data_ingestion\n",
    "        \n",
    "        create_directories([config.root_dir])\n",
    "        \n",
    "        data_ingestion_config = DataIngestionConfig(\n",
    "            root_dir = config.root_dir,\n",
    "            data_url = config.data_url,\n",
    "            local_data_file = config.local_data_file,\n",
    "            unzip_dir = config.unzip_dir\n",
    "        )   \n",
    "        \n",
    "        return data_ingestion_config   "
   ]
  },
  {
   "cell_type": "code",
   "execution_count": 16,
   "metadata": {},
   "outputs": [],
   "source": [
    "import os\n",
    "import urllib.request as request\n",
    "from src.MoviesRecom.logging import logger\n",
    "from src.MoviesRecom.utils.common import get_size\n",
    "import zipfile"
   ]
  },
  {
   "cell_type": "code",
   "execution_count": 17,
   "metadata": {},
   "outputs": [],
   "source": [
    "class DataIngestion:\n",
    "    def __init__(self, confg: DataIngestionConfig):\n",
    "        self.config = confg\n",
    "        \n",
    "    \n",
    "    def download_dataset(self):\n",
    "        \n",
    "        if not os.path.exists(self.config.local_data_file):\n",
    "            filename, headers= request.urlretrieve(\n",
    "                                    url= self.config.data_url,\n",
    "                                    filename=self.config.local_data_file\n",
    "                                )\n",
    "            logger.info(f\"{filename} download! with following info: \\n{headers}\")\n",
    "        else:\n",
    "            logger.info(f\"file already exist, size--> {get_size(Path(self.config.local_data_file))}\")\n",
    "    \n",
    "    \n",
    "    def extract_zip(self):\n",
    "        \n",
    "        unzip_path = self.config.unzip_dir\n",
    "        os.makedirs(unzip_path, exist_ok=True)\n",
    "        \n",
    "        with zipfile.ZipFile(self.config.local_data_file, 'r') as zip_ref:\n",
    "            zip_ref.extractall(unzip_path)"
   ]
  },
  {
   "cell_type": "code",
   "execution_count": 18,
   "metadata": {},
   "outputs": [
    {
     "name": "stdout",
     "output_type": "stream",
     "text": [
      "[2024-01-16 16:12:21,817: INFO: common: yaml file: config\\config.yaml loaded successfully]\n",
      "[2024-01-16 16:12:21,822: INFO: common: created directory at: artifacts]\n",
      "[2024-01-16 16:12:21,825: INFO: common: created directory at: artifacts/data_ingestion]\n",
      "[2024-01-16 16:12:25,692: INFO: 597450681: artifacts/data_ingestion/movie_dataset.zip download! with following info: \n",
      "Connection: close\n",
      "Content-Length: 9525845\n",
      "Cache-Control: max-age=300\n",
      "Content-Security-Policy: default-src 'none'; style-src 'unsafe-inline'; sandbox\n",
      "Content-Type: application/zip\n",
      "ETag: \"84494b1348433ffbe767212ee608932b3341153d0f6cc49628120dd6f396d8cf\"\n",
      "Strict-Transport-Security: max-age=31536000\n",
      "X-Content-Type-Options: nosniff\n",
      "X-Frame-Options: deny\n",
      "X-XSS-Protection: 1; mode=block\n",
      "X-GitHub-Request-Id: 20E2:3C1D69:FCA316:10686C1:65A6AAE2\n",
      "Accept-Ranges: bytes\n",
      "Date: Tue, 16 Jan 2024 16:12:22 GMT\n",
      "Via: 1.1 varnish\n",
      "X-Served-By: cache-lon420102-LON\n",
      "X-Cache: MISS\n",
      "X-Cache-Hits: 0\n",
      "X-Timer: S1705421542.651987,VS0,VE769\n",
      "Vary: Authorization,Accept-Encoding,Origin\n",
      "Access-Control-Allow-Origin: *\n",
      "Cross-Origin-Resource-Policy: cross-origin\n",
      "X-Fastly-Request-ID: 31e34948e79b80ff9bcab0481ac9c57b296cc74b\n",
      "Expires: Tue, 16 Jan 2024 16:17:22 GMT\n",
      "Source-Age: 1\n",
      "\n",
      "]\n"
     ]
    }
   ],
   "source": [
    "try:\n",
    "    config = ConfigurationManager()\n",
    "    data_ingestion_config = config.dataIngestionConfig()\n",
    "    data_ingestinion = DataIngestion(confg=data_ingestion_config)\n",
    "    data_ingestinion.download_dataset()\n",
    "    data_ingestinion.extract_zip()\n",
    "except Exception as e:\n",
    "    raise e"
   ]
  }
 ],
 "metadata": {
  "kernelspec": {
   "display_name": "recom-env",
   "language": "python",
   "name": "python3"
  },
  "language_info": {
   "codemirror_mode": {
    "name": "ipython",
    "version": 3
   },
   "file_extension": ".py",
   "mimetype": "text/x-python",
   "name": "python",
   "nbconvert_exporter": "python",
   "pygments_lexer": "ipython3",
   "version": "3.9.18"
  }
 },
 "nbformat": 4,
 "nbformat_minor": 2
}

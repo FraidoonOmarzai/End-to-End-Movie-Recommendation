{
 "cells": [
  {
   "cell_type": "code",
   "execution_count": 1,
   "metadata": {},
   "outputs": [
    {
     "data": {
      "text/plain": [
       "'c:\\\\Users\\\\44787\\\\Desktop\\\\End-to-End-Movie-Recommendation\\\\research'"
      ]
     },
     "execution_count": 1,
     "metadata": {},
     "output_type": "execute_result"
    }
   ],
   "source": [
    "%pwd"
   ]
  },
  {
   "cell_type": "code",
   "execution_count": 2,
   "metadata": {},
   "outputs": [
    {
     "data": {
      "text/plain": [
       "'c:\\\\Users\\\\44787\\\\Desktop\\\\End-to-End-Movie-Recommendation'"
      ]
     },
     "execution_count": 2,
     "metadata": {},
     "output_type": "execute_result"
    }
   ],
   "source": [
    "import os\n",
    "\n",
    "os.chdir('../')\n",
    "%pwd"
   ]
  },
  {
   "cell_type": "code",
   "execution_count": 31,
   "metadata": {},
   "outputs": [],
   "source": [
    "from pathlib import Path\n",
    "from dataclasses import dataclass\n",
    "\n",
    "\n",
    "@dataclass\n",
    "class ModelTrainingConfig:\n",
    "    root_dir: Path\n",
    "    df_path: Path\n",
    "    model_name: str"
   ]
  },
  {
   "cell_type": "code",
   "execution_count": 13,
   "metadata": {},
   "outputs": [],
   "source": [
    "from src.MoviesRecom.constants import CONFIG_PATH\n",
    "from src.MoviesRecom.utils.common import read_yaml, create_directories"
   ]
  },
  {
   "cell_type": "code",
   "execution_count": 34,
   "metadata": {},
   "outputs": [],
   "source": [
    "class ConfiguraitonManager:\n",
    "    def __init__(self, config=CONFIG_PATH):\n",
    "        self.config = read_yaml(config)\n",
    "\n",
    "    def get_model_train_config(self) -> ModelTrainingConfig:\n",
    "        config = self.config.model_training\n",
    "        create_directories([config.root_dir])\n",
    "\n",
    "        model_train_config = ModelTrainingConfig(\n",
    "            root_dir=config.root_dir,\n",
    "            df_path=config.df_path,\n",
    "            model_name=config.model_name\n",
    "        )\n",
    "        return model_train_config"
   ]
  },
  {
   "cell_type": "code",
   "execution_count": 41,
   "metadata": {},
   "outputs": [],
   "source": [
    "from sklearn.feature_extraction.text import CountVectorizer\n",
    "from sklearn.metrics.pairwise import cosine_similarity\n",
    "from src.MoviesRecom.logging import logger\n",
    "from src.MoviesRecom.utils.common import save_bin\n",
    "import pandas as pd\n",
    "import joblib"
   ]
  },
  {
   "cell_type": "code",
   "execution_count": 42,
   "metadata": {},
   "outputs": [],
   "source": [
    "class ModelTraining:\n",
    "    def __init__(self, config: ModelTrainingConfig) -> None:\n",
    "        self.config = config\n",
    "        self.df = pd.read_csv(self.config.df_path)\n",
    "        # self.similarity = None\n",
    "\n",
    "    def bag_of_words(self):\n",
    "        cv = CountVectorizer(max_features=5000, stop_words='english')\n",
    "        vector = cv.fit_transform(self.df['tags']).toarray()\n",
    "        similarity = cosine_similarity(vector)\n",
    "        \n",
    "        # save_bin(similarity, os.path.join(self.config.root_dir, self.config.model_name))\n",
    "        joblib.dump(similarity, os.path.join(self.config.root_dir, self.config.model_name))\n",
    "        \n",
    "        \n",
    "\n",
    "    def recommend(self, movie):\n",
    "        index = self.df[self.df['title'] == movie].index[0]\n",
    "        distances = sorted(\n",
    "            list(enumerate(self.similarity[index])), reverse=True, key=lambda x: x[1])\n",
    "        for i in distances[1:6]:\n",
    "            print(self.df.iloc[i[0]].title)"
   ]
  },
  {
   "cell_type": "code",
   "execution_count": 43,
   "metadata": {},
   "outputs": [
    {
     "name": "stdout",
     "output_type": "stream",
     "text": [
      "[2024-01-23 14:26:56,482: INFO: common: yaml file: config\\config.yaml loaded successfully]\n",
      "[2024-01-23 14:26:56,482: INFO: common: created directory at: artifacts/model_training]\n"
     ]
    }
   ],
   "source": [
    "try:\n",
    "    config = ConfiguraitonManager()\n",
    "    model_train_config = config.get_model_train_config()\n",
    "    model = ModelTraining(model_train_config)\n",
    "    model.bag_of_words()\n",
    "    # model.recommend('Avatar')\n",
    "except Exception as e:\n",
    "    raise e"
   ]
  }
 ],
 "metadata": {
  "kernelspec": {
   "display_name": "recom-env",
   "language": "python",
   "name": "python3"
  },
  "language_info": {
   "codemirror_mode": {
    "name": "ipython",
    "version": 3
   },
   "file_extension": ".py",
   "mimetype": "text/x-python",
   "name": "python",
   "nbconvert_exporter": "python",
   "pygments_lexer": "ipython3",
   "version": "3.9.18"
  }
 },
 "nbformat": 4,
 "nbformat_minor": 2
}
